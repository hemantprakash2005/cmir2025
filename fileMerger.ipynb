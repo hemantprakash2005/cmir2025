{
 "cells": [
  {
   "cell_type": "code",
   "execution_count": 9,
   "metadata": {},
   "outputs": [],
   "source": [
    "# Cell 1: Import Required Libraries\n",
    "import pandas as pd\n"
   ]
  },
  {
   "cell_type": "code",
   "execution_count": 10,
   "metadata": {},
   "outputs": [],
   "source": [
    "# Cell 2: Load the CSV Files\n",
    "\n",
    "qrel_df = pd.read_csv(\"QRels_Train_20.csv\")\n",
    "corpus_df = pd.read_csv(\"Baseline_Corpus.csv\")\n",
    "qtrain_df=pd.read_csv(\"Train_query_20_Roman.csv\")\n"
   ]
  },
  {
   "cell_type": "code",
   "execution_count": 11,
   "metadata": {},
   "outputs": [],
   "source": [
    "# Cell 3: Merge Qrel and Corpus DataFrames on 'DocumentID'\n",
    "merged_df1 = pd.merge(qrel_df, corpus_df, on='DocumentID', how='inner') # merging the two files based on DocumentID\n",
    "merged_df=pd.merge(merged_df1,qtrain_df, on='QueryID', how='inner')  # merging the previous merged file and Train_query file based on QueryID"
   ]
  },
  {
   "cell_type": "code",
   "execution_count": 12,
   "metadata": {},
   "outputs": [
    {
     "name": "stdout",
     "output_type": "stream",
     "text": [
      "Merged Data:\n",
      "   QueryID  DocumentID  Relevance                                 BODY  \\\n",
      "0        1           4          0    i was trained to show no emotions   \n",
      "1        1          11          0                   ektu dur jete hobe   \n",
      "2        1         339          0               train hi chot gyi unki   \n",
      "3        1        1378          0            train er dhakka aro bhalo   \n",
      "4        1        1861          1  delhi to howrah normally 1 day lage   \n",
      "\n",
      "                                           QueryText  \n",
      "0  hyderabad to howrah kono train ki diyeche ba d...  \n",
      "1  hyderabad to howrah kono train ki diyeche ba d...  \n",
      "2  hyderabad to howrah kono train ki diyeche ba d...  \n",
      "3  hyderabad to howrah kono train ki diyeche ba d...  \n",
      "4  hyderabad to howrah kono train ki diyeche ba d...  \n"
     ]
    }
   ],
   "source": [
    "# Cell 4: Display the Merged Result\n",
    "print(\"Merged Data:\")\n",
    "print(merged_df.head())\n"
   ]
  },
  {
   "cell_type": "code",
   "execution_count": 13,
   "metadata": {},
   "outputs": [],
   "source": [
    "# Cell 5: Save the Merged Data to CSV\n",
    "merged_df.to_csv(\"Merged_file.csv\", index=False)\n"
   ]
  }
 ],
 "metadata": {
  "kernelspec": {
   "display_name": "Python 3",
   "language": "python",
   "name": "python3"
  },
  "language_info": {
   "codemirror_mode": {
    "name": "ipython",
    "version": 3
   },
   "file_extension": ".py",
   "mimetype": "text/x-python",
   "name": "python",
   "nbconvert_exporter": "python",
   "pygments_lexer": "ipython3",
   "version": "3.10.11"
  }
 },
 "nbformat": 4,
 "nbformat_minor": 2
}
